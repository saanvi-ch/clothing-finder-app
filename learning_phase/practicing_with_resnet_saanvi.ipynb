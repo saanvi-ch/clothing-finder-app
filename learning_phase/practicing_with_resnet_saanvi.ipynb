{
 "cells": [
  {
   "cell_type": "markdown",
   "metadata": {},
   "source": [
    "<h1>Practicing with Resnet!!</h1>\n",
    "<p>- Load ResNet50 from TensorFlow or PyTorch</p>\n",
    "<p>- Input an image → Output a feature vector (2048-dim)</p>"
   ]
  },
  {
   "cell_type": "code",
   "execution_count": null,
   "metadata": {},
   "outputs": [],
   "source": [
    "#start here"
   ]
  }
 ],
 "metadata": {
  "language_info": {
   "name": "python"
  }
 },
 "nbformat": 4,
 "nbformat_minor": 2
}
